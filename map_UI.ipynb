{
 "cells": [
  {
   "cell_type": "code",
   "execution_count": 1,
   "metadata": {},
   "outputs": [
    {
     "data": {
      "application/vnd.jupyter.widget-view+json": {
       "model_id": "8db74211b6314bcda9ccdbcc755a89cc",
       "version_major": 2,
       "version_minor": 0
      },
      "text/plain": [
       "HTML(value='\\n<style>\\n.leaflet-pane {\\n    z-index : 2 !important;\\n}\\n.leaflet-top, .leaflet-bottom {\\n    z…"
      ]
     },
     "metadata": {},
     "output_type": "display_data"
    }
   ],
   "source": [
    "import os\n",
    "from pathlib import Path\n",
    "from functools import partial\n",
    "\n",
    "from sepal_ui import sepalwidgets as sw\n",
    "from sepal_ui import mapping as sm\n",
    "from sepal_ui import widgetFactory as wf\n",
    "import ipyvuetify as v\n",
    "from ipywidgets import HTML\n",
    "from importlib import reload\n",
    "sw=reload(sw)\n",
    "sm=reload(sm)\n",
    "def display_image(widget, event, data, file_chooser, map_, alert):\n",
    "    alert.clear()\n",
    "    image = file_chooser.file\n",
    "    image_path = Path(image)\n",
    "    layer_name = image_path.stem\n",
    "    if os.path.exists(image):\n",
    "        map_.remove_last_layer(local=True)\n",
    "        map_.add_raster(image, layer_name=layer_name)\n",
    "    else:\n",
    "        alert.add_msg('Please select a valid image', type_='error')\n",
    "\n",
    "file_chooser = sw.FileInput(extentions=['.tif'])\n",
    "m = sm.SepalMap(basemaps=['SATELLITE'])\n",
    "m.add_control(m.inspector_control)\n",
    "btn = sw.Btn(text='Display image', class_='block')\n",
    "alert = sw.Alert()\n",
    "btn.on_event('click', partial(display_image, file_chooser=file_chooser, map_=m, alert=alert))"
   ]
  },
  {
   "cell_type": "code",
   "execution_count": 2,
   "metadata": {},
   "outputs": [],
   "source": [
    "DESCRIPTION = \"\"\"\n",
    "<p> Use the <i>Search</i> button to search images stored in your SEPAL session. You can select the <i>inspector</i>\n",
    "checkbox inside the map to explore the image by clicking over the interest area.</p>\n",
    "\"\"\""
   ]
  },
  {
   "cell_type": "code",
   "execution_count": 3,
   "metadata": {},
   "outputs": [],
   "source": [
    "map_content =  v.Flex(\n",
    "    xs12=True,\n",
    "    row=True,\n",
    "    class_=\"d-flex-column\",\n",
    "    children=[\n",
    "        HTML(DESCRIPTION),\n",
    "        file_chooser, \n",
    "        btn, \n",
    "        alert,\n",
    "        v.Divider(class_='mt-5'),\n",
    "        m\n",
    "    ]\n",
    ")"
   ]
  },
  {
   "cell_type": "code",
   "execution_count": 4,
   "metadata": {
    "scrolled": false
   },
   "outputs": [
    {
     "data": {
      "application/vnd.jupyter.widget-view+json": {
       "model_id": "fb961551be4e4a80aac01dccc627bf49",
       "version_major": 2,
       "version_minor": 0
      },
      "text/plain": [
       "Layout(align_center=True, children=[Card(children=[Html(children=['Map visualization'], tag='h2'), Flex(childr…"
      ]
     },
     "metadata": {},
     "output_type": "display_data"
    }
   ],
   "source": [
    "map_tile = wf.Tile('map_tile', 'Map visualization', inputs=[map_content])\n",
    "map_tile"
   ]
  },
  {
   "cell_type": "code",
   "execution_count": null,
   "metadata": {},
   "outputs": [],
   "source": []
  }
 ],
 "metadata": {
  "kernelspec": {
   "display_name": "Python 3",
   "language": "python",
   "name": "python3"
  },
  "language_info": {
   "codemirror_mode": {
    "name": "ipython",
    "version": 3
   },
   "file_extension": ".py",
   "mimetype": "text/x-python",
   "name": "python",
   "nbconvert_exporter": "python",
   "pygments_lexer": "ipython3",
   "version": "3.6.9"
  }
 },
 "nbformat": 4,
 "nbformat_minor": 4
}
